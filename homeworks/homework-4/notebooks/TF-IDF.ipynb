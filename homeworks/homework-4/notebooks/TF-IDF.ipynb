{
 "cells": [
  {
   "cell_type": "code",
   "execution_count": 1,
   "id": "9c758635-df62-4ce9-83d8-59849a072f41",
   "metadata": {},
   "outputs": [
    {
     "data": {
      "text/plain": [
       "Intitializing Scala interpreter ..."
      ]
     },
     "metadata": {},
     "output_type": "display_data"
    },
    {
     "data": {
      "text/plain": [
       "Spark Web UI available at http://a951015de27f:4040\n",
       "SparkContext available as 'sc' (version = 3.1.1, master = local[*], app id = local-1636913673132)\n",
       "SparkSession available as 'spark'\n"
      ]
     },
     "metadata": {},
     "output_type": "display_data"
    },
    {
     "data": {
      "text/plain": [
       "import org.apache.spark.sql._\n",
       "import spark.implicits._\n",
       "import org.apache.spark.sql.types._\n",
       "import org.apache.spark.sql.expressions.Window\n"
      ]
     },
     "execution_count": 1,
     "metadata": {},
     "output_type": "execute_result"
    }
   ],
   "source": [
    "import org.apache.spark.sql._\n",
    "import spark.implicits._\n",
    "import org.apache.spark.sql.types._\n",
    "import org.apache.spark.sql.expressions.Window"
   ]
  },
  {
   "cell_type": "code",
   "execution_count": 2,
   "id": "78dcf54b-6a56-4bd0-90af-2995a3c1ccc2",
   "metadata": {},
   "outputs": [
    {
     "name": "stdout",
     "output_type": "stream",
     "text": [
      "+--------------------+------+\n",
      "|              Review|Rating|\n",
      "+--------------------+------+\n",
      "|nice hotel expens...|     4|\n",
      "|ok nothing specia...|     2|\n",
      "|nice rooms not 4*...|     3|\n",
      "|unique, great sta...|     5|\n",
      "|great stay great ...|     5|\n",
      "+--------------------+------+\n",
      "only showing top 5 rows\n",
      "\n"
     ]
    },
    {
     "data": {
      "text/plain": [
       "df: org.apache.spark.sql.DataFrame = [Review: string, Rating: string]\n"
      ]
     },
     "execution_count": 2,
     "metadata": {},
     "output_type": "execute_result"
    }
   ],
   "source": [
    "var df = spark.read.option(\"header\", \"true\")\n",
    "                    .option(\"sep\", \",\")\n",
    "                    .csv(\"../data/tripadvisor_hotel_reviews.csv\")\n",
    "df.show(5)"
   ]
  },
  {
   "cell_type": "code",
   "execution_count": 3,
   "id": "e34c45f8-944f-4be2-9c04-65cbcdca7a8e",
   "metadata": {},
   "outputs": [
    {
     "name": "stdout",
     "output_type": "stream",
     "text": [
      "+--------------------+------+\n",
      "|              review|Rating|\n",
      "+--------------------+------+\n",
      "|nice hotel expens...|     4|\n",
      "|ok nothing specia...|     2|\n",
      "|nice rooms not 4*...|     3|\n",
      "|unique, great sta...|     5|\n",
      "|great stay great ...|     5|\n",
      "+--------------------+------+\n",
      "only showing top 5 rows\n",
      "\n"
     ]
    },
    {
     "data": {
      "text/plain": [
       "df: org.apache.spark.sql.DataFrame = [review: string, Rating: string]\n"
      ]
     },
     "execution_count": 3,
     "metadata": {},
     "output_type": "execute_result"
    }
   ],
   "source": [
    "df = df.withColumn(\"review\", lower(col(\"Review\")));\n",
    "df.show(5);"
   ]
  },
  {
   "cell_type": "code",
   "execution_count": 4,
   "id": "64b76899-432f-4ef5-b23f-c83985392642",
   "metadata": {},
   "outputs": [
    {
     "data": {
      "text/plain": [
       "res2: Long = 20491\n"
      ]
     },
     "execution_count": 4,
     "metadata": {},
     "output_type": "execute_result"
    }
   ],
   "source": [
    "df.count"
   ]
  },
  {
   "cell_type": "code",
   "execution_count": 5,
   "id": "a2df9e45-7941-409c-849c-cda633e79cab",
   "metadata": {},
   "outputs": [
    {
     "data": {
      "text/plain": [
       "res3: Long = 20491\n"
      ]
     },
     "execution_count": 5,
     "metadata": {},
     "output_type": "execute_result"
    }
   ],
   "source": [
    "df.na.drop(\"all\")\n",
    "df.count"
   ]
  },
  {
   "cell_type": "code",
   "execution_count": 6,
   "id": "49759735-05b9-46ac-98a1-f6e20fb43dca",
   "metadata": {},
   "outputs": [
    {
     "name": "stdout",
     "output_type": "stream",
     "text": [
      "+--------------------+------+\n",
      "|              review|doc_id|\n",
      "+--------------------+------+\n",
      "|horrible customer...|     1|\n",
      "|noise airconditio...|     2|\n",
      "|bad choice booked...|     3|\n",
      "|hated inn terribl...|     4|\n",
      "|ace grunge lives ...|     5|\n",
      "+--------------------+------+\n",
      "only showing top 5 rows\n",
      "\n"
     ]
    },
    {
     "data": {
      "text/plain": [
       "df: org.apache.spark.sql.DataFrame = [review: string, doc_id: int]\n"
      ]
     },
     "execution_count": 6,
     "metadata": {},
     "output_type": "execute_result"
    }
   ],
   "source": [
    "df = df\n",
    "  .withColumn(\"review\", regexp_replace(col(\"review\"), \"[^a-z0-9 ]\", \"\"))\n",
    "  .withColumn(\"doc_id\", row_number().over(Window.orderBy(\"Rating\"))).select(col(\"review\"),col(\"doc_id\"))\n",
    "df.show(5)"
   ]
  },
  {
   "cell_type": "code",
   "execution_count": 7,
   "id": "b63b9c11-db57-4ea2-a04d-77a419a62333",
   "metadata": {},
   "outputs": [
    {
     "name": "stdout",
     "output_type": "stream",
     "text": [
      "+--------------------+------+--------+\n",
      "|              review|doc_id|    word|\n",
      "+--------------------+------+--------+\n",
      "|horrible customer...|     1|horrible|\n",
      "|horrible customer...|     1|customer|\n",
      "|horrible customer...|     1| service|\n",
      "|horrible customer...|     1|   hotel|\n",
      "|horrible customer...|     1|    stay|\n",
      "+--------------------+------+--------+\n",
      "only showing top 5 rows\n",
      "\n"
     ]
    },
    {
     "data": {
      "text/plain": [
       "doc2word: org.apache.spark.sql.DataFrame = [review: string, doc_id: int ... 1 more field]\n"
      ]
     },
     "execution_count": 7,
     "metadata": {},
     "output_type": "execute_result"
    }
   ],
   "source": [
    "val doc2word = df.withColumn(\"word\", explode(split(trim(col(\"review\")), \" {1,}\")))\n",
    "doc2word.show(5)"
   ]
  },
  {
   "cell_type": "code",
   "execution_count": 8,
   "id": "9ea020aa-f5e6-47bf-a324-159acd60532e",
   "metadata": {},
   "outputs": [
    {
     "name": "stdout",
     "output_type": "stream",
     "text": [
      "+------+---+\n",
      "|doc_id|len|\n",
      "+------+---+\n",
      "|     1|214|\n",
      "|     2| 86|\n",
      "|     3|118|\n",
      "|     4| 16|\n",
      "|     5| 14|\n",
      "+------+---+\n",
      "only showing top 5 rows\n",
      "\n"
     ]
    },
    {
     "data": {
      "text/plain": [
       "review_len: org.apache.spark.sql.DataFrame = [doc_id: int, len: bigint]\n"
      ]
     },
     "execution_count": 8,
     "metadata": {},
     "output_type": "execute_result"
    }
   ],
   "source": [
    "val review_len = doc2word.groupBy(\"doc_id\").agg(count(col(\"doc_id\")).as(\"len\"))\n",
    "review_len.show(5)"
   ]
  },
  {
   "cell_type": "code",
   "execution_count": 9,
   "id": "1100d224-7b6e-4a51-80a6-87bdf7491fc2",
   "metadata": {},
   "outputs": [
    {
     "name": "stdout",
     "output_type": "stream",
     "text": [
      "+------+--------+-----+\n",
      "|doc_id|    word|count|\n",
      "+------+--------+-----+\n",
      "|     1|horrible|    1|\n",
      "|     1|customer|    1|\n",
      "|     1| service|    1|\n",
      "|     1|   hotel|    4|\n",
      "|     1|    stay|    2|\n",
      "+------+--------+-----+\n",
      "only showing top 5 rows\n",
      "\n"
     ]
    },
    {
     "data": {
      "text/plain": [
       "word_count: org.apache.spark.sql.DataFrame = [doc_id: int, word: string ... 1 more field]\n"
      ]
     },
     "execution_count": 9,
     "metadata": {},
     "output_type": "execute_result"
    }
   ],
   "source": [
    "val word_count = doc2word.groupBy(\"doc_id\", \"word\")\n",
    "                    .agg(count(col(\"word\"))\n",
    "                    .as(\"count\"))\n",
    "word_count.show(5)"
   ]
  },
  {
   "cell_type": "code",
   "execution_count": 10,
   "id": "f68e61a0-e6f7-4f9c-906a-9f5227ccd65f",
   "metadata": {},
   "outputs": [
    {
     "name": "stdout",
     "output_type": "stream",
     "text": [
      "+------+---+--------+-----+--------------------+\n",
      "|doc_id|len|    word|count|                  tf|\n",
      "+------+---+--------+-----+--------------------+\n",
      "|     1|214|horrible|    1|0.004672897196261682|\n",
      "|     1|214|customer|    1|0.004672897196261682|\n",
      "|     1|214| service|    1|0.004672897196261682|\n",
      "|     1|214|   hotel|    4|0.018691588785046728|\n",
      "|     1|214|    stay|    2|0.009345794392523364|\n",
      "+------+---+--------+-----+--------------------+\n",
      "only showing top 5 rows\n",
      "\n"
     ]
    },
    {
     "data": {
      "text/plain": [
       "tf: org.apache.spark.sql.DataFrame = [doc_id: int, len: bigint ... 3 more fields]\n"
      ]
     },
     "execution_count": 10,
     "metadata": {},
     "output_type": "execute_result"
    }
   ],
   "source": [
    "val tf = review_len\n",
    "  .join(word_count, Seq(\"doc_id\"), \"inner\")\n",
    "  .withColumn(\"tf\", col(\"count\") / col(\"len\"))\n",
    "tf.show(5)"
   ]
  },
  {
   "cell_type": "code",
   "execution_count": 11,
   "id": "77183808-26f1-43aa-ac2e-90bfcd866387",
   "metadata": {},
   "outputs": [
    {
     "name": "stdout",
     "output_type": "stream",
     "text": [
      "+------+-----+------------+\n",
      "|  word|count|review_count|\n",
      "+------+-----+------------+\n",
      "| hotel|16321|       20491|\n",
      "|  room|14053|       20491|\n",
      "|   not|12123|       20491|\n",
      "| staff|11522|       20491|\n",
      "| great|11020|       20491|\n",
      "|  stay|10095|       20491|\n",
      "|  good| 9277|       20491|\n",
      "|stayed| 8549|       20491|\n",
      "|    nt| 8379|       20491|\n",
      "| rooms| 8338|       20491|\n",
      "+------+-----+------------+\n",
      "only showing top 10 rows\n",
      "\n"
     ]
    },
    {
     "data": {
      "text/plain": [
       "top100: org.apache.spark.sql.DataFrame = [word: string, count: bigint ... 1 more field]\n"
      ]
     },
     "execution_count": 11,
     "metadata": {},
     "output_type": "execute_result"
    }
   ],
   "source": [
    "val top100 = word_count.groupBy(\"word\")\n",
    "    .agg(count(col(\"word\"))\n",
    "    .as(\"count\"))\n",
    "    .orderBy(desc(\"count\"))\n",
    "    .limit(100)\n",
    "    .withColumn(\"review_count\", lit(review_len.count()))\n",
    "top100.show(10)"
   ]
  },
  {
   "cell_type": "code",
   "execution_count": 12,
   "id": "ec00c0e6-0ed2-4096-8743-88c1d843dced",
   "metadata": {},
   "outputs": [
    {
     "name": "stdout",
     "output_type": "stream",
     "text": [
      "+-----+-----+------------+-------------------+\n",
      "| word|count|review_count|                idf|\n",
      "+-----+-----+------------+-------------------+\n",
      "|hotel|16321|       20491| 0.2275331431861368|\n",
      "| room|14053|       20491|0.37714986923608756|\n",
      "|  not|12123|       20491| 0.5248812905902491|\n",
      "|staff|11522|       20491| 0.5757275140445041|\n",
      "|great|11020|       20491| 0.6202739616299271|\n",
      "+-----+-----+------------+-------------------+\n",
      "only showing top 5 rows\n",
      "\n"
     ]
    },
    {
     "data": {
      "text/plain": [
       "idf: org.apache.spark.sql.DataFrame = [word: string, count: bigint ... 2 more fields]\n"
      ]
     },
     "execution_count": 12,
     "metadata": {},
     "output_type": "execute_result"
    }
   ],
   "source": [
    "val idf = top100\n",
    "  .withColumn(\"idf\", log(col(\"review_count\") / col(\"count\")))\n",
    "idf.show(5)"
   ]
  },
  {
   "cell_type": "code",
   "execution_count": 13,
   "id": "c7014e41-25e3-4923-8872-b098feb551a2",
   "metadata": {},
   "outputs": [
    {
     "name": "stdout",
     "output_type": "stream",
     "text": [
      "+-------+------+---+-----+--------------------+-----+------------+------------------+--------------------+\n",
      "|   word|doc_id|len|count|                  tf|count|review_count|               idf|              tf_idf|\n",
      "+-------+------+---+-----+--------------------+-----+------------+------------------+--------------------+\n",
      "|service|     1|214|    1|0.004672897196261682| 6228|       20491|1.1909305113829436|0.005565095847583...|\n",
      "|  hotel|     1|214|    4|0.018691588785046728|16321|       20491|0.2275331431861368|0.004252955947404426|\n",
      "|   stay|     1|214|    2|0.009345794392523364|10095|       20491|0.7079455135898947| 0.00661631321112051|\n",
      "|      3|     1|214|    1|0.004672897196261682| 3375|       20491|1.8035904410302024|0.008427992715094403|\n",
      "|   free|     1|214|    1|0.004672897196261682| 3065|       20491|1.8999381959665207|0.008878215869002433|\n",
      "+-------+------+---+-----+--------------------+-----+------------+------------------+--------------------+\n",
      "only showing top 5 rows\n",
      "\n"
     ]
    },
    {
     "data": {
      "text/plain": [
       "tf_idf: org.apache.spark.sql.DataFrame = [word: string, doc_id: int ... 7 more fields]\n"
      ]
     },
     "execution_count": 13,
     "metadata": {},
     "output_type": "execute_result"
    }
   ],
   "source": [
    "val tf_idf = tf\n",
    "  .join(idf, Seq(\"word\"), joinType = \"inner\")\n",
    "  .withColumn(\"tf_idf\", (col(\"tf\") * col(\"idf\")))\n",
    "tf_idf.show(5)"
   ]
  },
  {
   "cell_type": "code",
   "execution_count": 14,
   "id": "9794ad07-1073-4f7a-8822-7b954b8168e8",
   "metadata": {},
   "outputs": [
    {
     "data": {
      "text/plain": [
       "pivot_tf_idf: org.apache.spark.sql.DataFrame = [doc_id: int, 2: double ... 99 more fields]\n"
      ]
     },
     "execution_count": 14,
     "metadata": {},
     "output_type": "execute_result"
    }
   ],
   "source": [
    "val pivot_tf_idf = tf_idf\n",
    "  .groupBy(col(\"doc_id\"))\n",
    "  .pivot(\"word\")\n",
    "  .sum(\"tf_idf\")\n",
    "  .withColumnRenamed(\"sum\", \"tf_idf\")\n",
    "  .na.fill(0)"
   ]
  },
  {
   "cell_type": "code",
   "execution_count": 15,
   "id": "3536bb1d-47ef-4162-99d3-34d89cf0198b",
   "metadata": {},
   "outputs": [
    {
     "name": "stdout",
     "output_type": "stream",
     "text": [
      "-RECORD 0---------------------------\n",
      " doc_id      | 1                    \n",
      " 2           | 0.0                  \n",
      " 3           | 0.008427992715094403 \n",
      " 4           | 0.0                  \n",
      " 5           | 0.0                  \n",
      " area        | 0.0                  \n",
      " arrived     | 0.0                  \n",
      " away        | 0.0                  \n",
      " bar         | 0.0                  \n",
      " bathroom    | 0.0                  \n",
      " beach       | 0.0                  \n",
      " beautiful   | 0.0                  \n",
      " bed         | 0.00790212954030082  \n",
      " beds        | 0.0                  \n",
      " best        | 0.0                  \n",
      " better      | 0.0                  \n",
      " big         | 0.0                  \n",
      " bit         | 0.0                  \n",
      " booked      | 0.00871786664290698  \n",
      " breakfast   | 0.0                  \n",
      " buffet      | 0.0                  \n",
      " city        | 0.0                  \n",
      " clean       | 0.0                  \n",
      " close       | 0.0                  \n",
      " comfortable | 0.0                  \n",
      " day         | 0.0                  \n",
      " days        | 0.0                  \n",
      " definitely  | 0.0                  \n",
      " desk        | 0.02607427357791508  \n",
      " did         | 0.0                  \n",
      " excellent   | 0.0                  \n",
      " experience  | 0.0                  \n",
      " fantastic   | 0.0                  \n",
      " floor       | 0.0                  \n",
      " food        | 0.012343057466549583 \n",
      " free        | 0.008878215869002433 \n",
      " friendly    | 0.0                  \n",
      " going       | 0.0                  \n",
      " good        | 0.0                  \n",
      " got         | 0.01489710315311451  \n",
      " great       | 0.0                  \n",
      " helpful     | 0.0                  \n",
      " hotel       | 0.004252955947404426 \n",
      " hotels      | 0.0                  \n",
      " just        | 0.009103747730875722 \n",
      " large       | 0.0                  \n",
      " like        | 0.012590631190839563 \n",
      " little      | 0.0                  \n",
      " lobby       | 0.0                  \n",
      " location    | 0.0                  \n",
      " loved       | 0.0                  \n",
      " lovely      | 0.0                  \n",
      " make        | 0.0                  \n",
      " minutes     | 0.009432798416473931 \n",
      " morning     | 0.0193446120093928   \n",
      " need        | 0.0                  \n",
      " new         | 0.0                  \n",
      " nice        | 0.0                  \n",
      " night       | 0.0                  \n",
      " nights      | 0.0                  \n",
      " no          | 0.005148320088102177 \n",
      " not         | 0.004905432622338776 \n",
      " nt          | 0.0                  \n",
      " people      | 0.007491412145794307 \n",
      " perfect     | 0.0                  \n",
      " place       | 0.0                  \n",
      " pool        | 0.0                  \n",
      " price       | 0.0                  \n",
      " problem     | 0.010236266198608422 \n",
      " quiet       | 0.0                  \n",
      " quite       | 0.0                  \n",
      " really      | 0.0                  \n",
      " recommend   | 0.007361787365003873 \n",
      " resort      | 0.0                  \n",
      " restaurant  | 0.0                  \n",
      " restaurants | 0.0                  \n",
      " reviews     | 0.0                  \n",
      " right       | 0.0                  \n",
      " room        | 0.008811912832618868 \n",
      " rooms       | 0.0                  \n",
      " say         | 0.0                  \n",
      " service     | 0.005565095847583... \n",
      " shower      | 0.0                  \n",
      " small       | 0.0                  \n",
      " staff       | 0.002690315486189271 \n",
      " stay        | 0.00661631321112051  \n",
      " stayed      | 0.0                  \n",
      " street      | 0.009352801500775096 \n",
      " think       | 0.0                  \n",
      " time        | 0.0                  \n",
      " times       | 0.0                  \n",
      " took        | 0.020468455714756334 \n",
      " trip        | 0.0                  \n",
      " view        | 0.0                  \n",
      " walk        | 0.00693951357521335  \n",
      " walking     | 0.0                  \n",
      " want        | 0.0                  \n",
      " water       | 0.0                  \n",
      " way         | 0.008649135574944039 \n",
      " went        | 0.026122697431206026 \n",
      " wonderful   | 0.0                  \n",
      "-RECORD 1---------------------------\n",
      " doc_id      | 2                    \n",
      " 2           | 0.0                  \n",
      " 3           | 0.06291594561733264  \n",
      " 4           | 0.0                  \n",
      " 5           | 0.021156032025158047 \n",
      " area        | 0.0                  \n",
      " arrived     | 0.0                  \n",
      " away        | 0.0                  \n",
      " bar         | 0.0                  \n",
      " bathroom    | 0.0                  \n",
      " beach       | 0.0                  \n",
      " beautiful   | 0.0                  \n",
      " bed         | 0.0                  \n",
      " beds        | 0.0                  \n",
      " best        | 0.0                  \n",
      " better      | 0.0                  \n",
      " big         | 0.0                  \n",
      " bit         | 0.0                  \n",
      " booked      | 0.0                  \n",
      " breakfast   | 0.0                  \n",
      " buffet      | 0.0                  \n",
      " city        | 0.0                  \n",
      " clean       | 0.0                  \n",
      " close       | 0.0                  \n",
      " comfortable | 0.0                  \n",
      " day         | 0.0                  \n",
      " days        | 0.0                  \n",
      " definitely  | 0.0                  \n",
      " desk        | 0.0                  \n",
      " did         | 0.0                  \n",
      " excellent   | 0.0                  \n",
      " experience  | 0.0                  \n",
      " fantastic   | 0.0                  \n",
      " floor       | 0.02075354690586705  \n",
      " food        | 0.0                  \n",
      " free        | 0.0                  \n",
      " friendly    | 0.0                  \n",
      " going       | 0.0                  \n",
      " good        | 0.018429012713571186 \n",
      " got         | 0.0                  \n",
      " great       | 0.0                  \n",
      " helpful     | 0.0                  \n",
      " hotel       | 0.01322867111547307  \n",
      " hotels      | 0.0                  \n",
      " just        | 0.0                  \n",
      " large       | 0.0                  \n",
      " like        | 0.046995262933249994 \n",
      " little      | 0.0                  \n",
      " lobby       | 0.0                  \n",
      " location    | 0.0                  \n",
      " loved       | 0.0                  \n",
      " lovely      | 0.0                  \n",
      " make        | 0.022069564231348954 \n",
      " minutes     | 0.02347231233866769  \n",
      " morning     | 0.0                  \n",
      " need        | 0.0                  \n",
      " new         | 0.0                  \n",
      " nice        | 0.0                  \n",
      " night       | 0.02731459450680712  \n",
      " nights      | 0.0                  \n",
      " no          | 0.0                  \n",
      " not         | 0.0                  \n",
      " nt          | 0.0                  \n",
      " people      | 0.0                  \n",
      " perfect     | 0.0                  \n",
      " place       | 0.0                  \n",
      " pool        | 0.0                  \n",
      " price       | 0.0                  \n",
      " problem     | 0.0                  \n",
      " quiet       | 0.0                  \n",
      " quite       | 0.0                  \n",
      " really      | 0.016679427830045664 \n",
      " recommend   | 0.0                  \n",
      " resort      | 0.0                  \n",
      " restaurant  | 0.0                  \n",
      " restaurants | 0.019422737076818564 \n",
      " reviews     | 0.0                  \n",
      " right       | 0.02117004155333073  \n",
      " room        | 0.00877092719153692  \n",
      " rooms       | 0.03136612974056129  \n",
      " say         | 0.0                  \n",
      " service     | 0.0                  \n",
      " shower      | 0.0                  \n",
      " small       | 0.0                  \n",
      " staff       | 0.0                  \n",
      " stay        | 0.024695773729880046 \n",
      " stayed      | 0.0                  \n",
      " street      | 0.0                  \n",
      " think       | 0.0                  \n",
      " time        | 0.0                  \n",
      " times       | 0.0                  \n",
      " took        | 0.0                  \n",
      " trip        | 0.020237695048624247 \n",
      " view        | 0.0                  \n",
      " walk        | 0.0                  \n",
      " walking     | 0.0                  \n",
      " want        | 0.0                  \n",
      " water       | 0.0                  \n",
      " way         | 0.0                  \n",
      " went        | 0.0                  \n",
      " wonderful   | 0.0                  \n",
      "only showing top 2 rows\n",
      "\n"
     ]
    }
   ],
   "source": [
    "pivot_tf_idf.show(2, 20, true)"
   ]
  },
  {
   "cell_type": "code",
   "execution_count": null,
   "id": "b4abf4b8-fafb-44fa-95ab-36a12ed9a094",
   "metadata": {},
   "outputs": [],
   "source": []
  }
 ],
 "metadata": {
  "kernelspec": {
   "display_name": "spylon-kernel",
   "language": "scala",
   "name": "spylon-kernel"
  },
  "language_info": {
   "codemirror_mode": "text/x-scala",
   "file_extension": ".scala",
   "help_links": [
    {
     "text": "MetaKernel Magics",
     "url": "https://metakernel.readthedocs.io/en/latest/source/README.html"
    }
   ],
   "mimetype": "text/x-scala",
   "name": "scala",
   "pygments_lexer": "scala",
   "version": "0.4.1"
  }
 },
 "nbformat": 4,
 "nbformat_minor": 5
}